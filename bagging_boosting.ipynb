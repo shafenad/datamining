{
  "cells": [
    {
      "cell_type": "markdown",
      "source": [
        "# **Boosting (AdaBoost) Classifier**"
      ],
      "metadata": {
        "id": "0N1NyUD6k2Im"
      }
    },
    {
      "cell_type": "code",
      "source": [
        "import pandas as pd\n",
        "from sklearn.model_selection import train_test_split\n",
        "from sklearn.ensemble import AdaBoostClassifier\n",
        "from sklearn.tree import DecisionTreeClassifier\n",
        "from sklearn.compose import ColumnTransformer\n",
        "from sklearn.preprocessing import OneHotEncoder\n",
        "from sklearn.pipeline import Pipeline\n",
        "from sklearn.metrics import accuracy_score, classification_report\n",
        "\n",
        "data = pd.read_csv('adult.csv')\n",
        "\n",
        "X = data.drop(columns='income')\n",
        "y = data['income']\n",
        "\n",
        "categorical_features = X.select_dtypes(include=['object']).columns\n",
        "\n",
        "preprocessor = ColumnTransformer(\n",
        "    transformers=[\n",
        "        ('cat', OneHotEncoder(), categorical_features)\n",
        "    ],\n",
        "    remainder='passthrough'\n",
        ")\n",
        "\n",
        "X_train, X_test, y_train, y_test = train_test_split(X, y, test_size=0.2, random_state=42)\n",
        "\n",
        "pipeline_adaboost = Pipeline([\n",
        "    ('preprocessor', preprocessor),\n",
        "    ('classifier', AdaBoostClassifier(base_estimator=DecisionTreeClassifier(max_depth=1), n_estimators=100, random_state=42))\n",
        "])\n",
        "\n",
        "pipeline_adaboost.fit(X_train, y_train)\n",
        "\n",
        "y_pred_adaboost = pipeline_adaboost.predict(X_test)\n",
        "accuracy_adaboost = accuracy_score(y_test, y_pred_adaboost)\n",
        "print(f'Accuracy of Boosting Classifier: {accuracy_adaboost:.2f}')\n",
        "\n",
        "report = classification_report(y_test, y_pred_adaboost, target_names=['<=50K', '>50K'])\n",
        "print(report)\n"
      ],
      "metadata": {
        "colab": {
          "base_uri": "https://localhost:8080/"
        },
        "id": "d5rIg-mlqPMg",
        "outputId": "940e2e83-4934-4d21-8fcd-998334148762"
      },
      "execution_count": null,
      "outputs": [
        {
          "output_type": "stream",
          "name": "stderr",
          "text": [
            "/usr/local/lib/python3.10/dist-packages/sklearn/ensemble/_base.py:166: FutureWarning: `base_estimator` was renamed to `estimator` in version 1.2 and will be removed in 1.4.\n",
            "  warnings.warn(\n"
          ]
        },
        {
          "output_type": "stream",
          "name": "stdout",
          "text": [
            "Accuracy of Boosting Classifier: 0.86\n",
            "              precision    recall  f1-score   support\n",
            "\n",
            "       <=50K       0.88      0.95      0.91      4976\n",
            "        >50K       0.78      0.59      0.67      1537\n",
            "\n",
            "    accuracy                           0.86      6513\n",
            "   macro avg       0.83      0.77      0.79      6513\n",
            "weighted avg       0.86      0.86      0.86      6513\n",
            "\n"
          ]
        }
      ]
    },
    {
      "cell_type": "markdown",
      "source": [
        "# **Bagging (Random Forest) Classifier**"
      ],
      "metadata": {
        "id": "-RTGNTOalhUP"
      }
    },
    {
      "cell_type": "code",
      "source": [
        "import pandas as pd\n",
        "from sklearn.model_selection import train_test_split\n",
        "from sklearn.ensemble import RandomForestClassifier\n",
        "from sklearn.compose import ColumnTransformer\n",
        "from sklearn.preprocessing import OneHotEncoder\n",
        "from sklearn.pipeline import Pipeline\n",
        "from sklearn.metrics import accuracy_score, classification_report\n",
        "\n",
        "data = pd.read_csv('adult.csv')\n",
        "\n",
        "X = data.drop(columns='income')\n",
        "y = data['income']\n",
        "\n",
        "categorical_features = X.select_dtypes(include=['object']).columns\n",
        "\n",
        "preprocessor = ColumnTransformer(\n",
        "    transformers=[\n",
        "        ('cat', OneHotEncoder(), categorical_features)\n",
        "    ],\n",
        "    remainder='passthrough'\n",
        ")\n",
        "\n",
        "X_train, X_test, y_train, y_test = train_test_split(X, y, test_size=0.2, random_state=42)\n",
        "\n",
        "pipeline_rf = Pipeline([\n",
        "    ('preprocessor', preprocessor),\n",
        "    ('classifier', RandomForestClassifier(n_estimators=100, random_state=42))\n",
        "])\n",
        "\n",
        "pipeline_rf.fit(X_train, y_train)\n",
        "\n",
        "y_pred_rf = pipeline_rf.predict(X_test)\n",
        "accuracy_rf = accuracy_score(y_test, y_pred_rf)\n",
        "print(f'Accuracy of Bagging Classifier: {accuracy_rf:.2f}')\n",
        "\n",
        "report = classification_report(y_test, y_pred_rf, target_names=['<=50K', '>50K'])\n",
        "print(report)\n"
      ],
      "metadata": {
        "colab": {
          "base_uri": "https://localhost:8080/"
        },
        "id": "f7oTSfZ8sl71",
        "outputId": "17ba4be7-457f-4c67-fb52-90265d7f835a"
      },
      "execution_count": null,
      "outputs": [
        {
          "output_type": "stream",
          "name": "stdout",
          "text": [
            "Accuracy of Bagging Classifier: 0.85\n",
            "              precision    recall  f1-score   support\n",
            "\n",
            "       <=50K       0.89      0.92      0.90      4976\n",
            "        >50K       0.71      0.61      0.66      1537\n",
            "\n",
            "    accuracy                           0.85      6513\n",
            "   macro avg       0.80      0.77      0.78      6513\n",
            "weighted avg       0.85      0.85      0.85      6513\n",
            "\n"
          ]
        }
      ]
    }
  ],
  "metadata": {
    "colab": {
      "provenance": []
    },
    "kernelspec": {
      "display_name": "Python 3",
      "name": "python3"
    },
    "language_info": {
      "name": "python"
    }
  },
  "nbformat": 4,
  "nbformat_minor": 0
}