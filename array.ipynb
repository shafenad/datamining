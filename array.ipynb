{
  "nbformat": 4,
  "nbformat_minor": 0,
  "metadata": {
    "colab": {
      "provenance": []
    },
    "kernelspec": {
      "name": "python3",
      "display_name": "Python 3"
    },
    "language_info": {
      "name": "python"
    }
  },
  "cells": [
    {
      "cell_type": "markdown",
      "source": [
        "SHAVIRA FEBYNADIA\n",
        "222410101020\n",
        "# LKM 1"
      ],
      "metadata": {
        "id": "hV6jifhLa6yy"
      }
    },
    {
      "cell_type": "code",
      "execution_count": null,
      "metadata": {
        "colab": {
          "base_uri": "https://localhost:8080/"
        },
        "id": "B44LryHLvGNh",
        "outputId": "b5a5f707-e62f-45bc-d99f-f7f44201fa08"
      },
      "outputs": [
        {
          "output_type": "stream",
          "name": "stdout",
          "text": [
            "[[4 4 5]\n",
            " [7 6 4]\n",
            " [9 7 4]\n",
            " [6 3 7]]\n"
          ]
        }
      ],
      "source": [
        "# Buatlah array 2D berikut menggunakan numpy\n",
        "\n",
        "import numpy as np\n",
        "array_2D = np.array([[4, 4, 5],\n",
        "                     [7, 6, 4],\n",
        "                     [9, 7, 4],\n",
        "                     [6, 3, 7]])\n",
        "print(array_2D)"
      ]
    },
    {
      "cell_type": "code",
      "source": [
        "# Buatlah array 3D berikut menggunakan numpy\n",
        "\n",
        "array_3D = np.array([[7, 8, 5, 2, 1, 2, 2, 9, 3, 4, 7, 7, 9, 8, 5, 2, 4, 8, 7, 1, 9, 3, 7, 3, 1, 6, 6, 5, 4, 10, 4, 9, 9, 8, 1, 3]]).reshape(3, 4, 3)\n",
        "print(array_3D)\n"
      ],
      "metadata": {
        "id": "DuGWMdlRvZQI",
        "colab": {
          "base_uri": "https://localhost:8080/"
        },
        "outputId": "72b7a87d-0fff-4c43-9e5a-53ba870ca587"
      },
      "execution_count": null,
      "outputs": [
        {
          "output_type": "stream",
          "name": "stdout",
          "text": [
            "[[[ 7  8  5]\n",
            "  [ 2  1  2]\n",
            "  [ 2  9  3]\n",
            "  [ 4  7  7]]\n",
            "\n",
            " [[ 9  8  5]\n",
            "  [ 2  4  8]\n",
            "  [ 7  1  9]\n",
            "  [ 3  7  3]]\n",
            "\n",
            " [[ 1  6  6]\n",
            "  [ 5  4 10]\n",
            "  [ 4  9  9]\n",
            "  [ 8  1  3]]]\n"
          ]
        }
      ]
    },
    {
      "cell_type": "code",
      "source": [
        "#Tambahkan angka 1 pada setiap bilangan di baris ganjil array berikut. kemudian tambahkan angka 2 pada setiap bilangan di kolom genap array berikut\n",
        "\n",
        "import numpy as np\n",
        "\n",
        "# Matriks untuk menyimpan nilai gambar\n",
        "arr2d = np.array([\n",
        "    [1, 8, 8, 2],\n",
        "    [8, 2, 1, 2],\n",
        "    [10, 1, 4, 7],\n",
        "    [1, 4, 7, 8],\n",
        "    [8, 2, 3, 4],\n",
        "])\n",
        "\n",
        "# Mencetak kode 2D\n",
        "print(\"Sebelum Ditambah\\n\")\n",
        "print(arr2d)\n",
        "\n",
        "# Menambahkan 1 pada setiap bilangan di baris ganjil\n",
        "arr2d[1::2] += 1 #Menambahkan 1 pada setiap elemen di baris ganjil (indeks dimulai dari 1 dengan selang 2).\n",
        "\n",
        "# Menambahkan 2 pada setiap bilangan di kolom genap\n",
        "arr2d[:, ::2] += 2 #Menambahkan 2 pada setiap elemen di kolom genap (indeks dimulai dari 0 dengan selang 2).\n",
        "\n",
        "# Mencetak hasil setelah penambahan\n",
        "print(\"\\n|Setelah Ditambah|\\n\")\n",
        "print(arr2d)\n"
      ],
      "metadata": {
        "id": "Ncd-dEv_v9Rz",
        "colab": {
          "base_uri": "https://localhost:8080/"
        },
        "outputId": "29525bec-6c5e-4323-b3b4-dd92d2e9c6e6"
      },
      "execution_count": null,
      "outputs": [
        {
          "output_type": "stream",
          "name": "stdout",
          "text": [
            "Sebelum Ditambah\n",
            "\n",
            "[[ 1  8  8  2]\n",
            " [ 8  2  1  2]\n",
            " [10  1  4  7]\n",
            " [ 1  4  7  8]\n",
            " [ 8  2  3  4]]\n",
            "\n",
            "|Setelah Ditambah|\n",
            "\n",
            "[[ 3  8 10  2]\n",
            " [11  3  4  3]\n",
            " [12  1  6  7]\n",
            " [ 4  5 10  9]\n",
            " [10  2  5  4]]\n"
          ]
        }
      ]
    },
    {
      "cell_type": "code",
      "source": [
        "# Baliklah sumbu z array 3D berikut\n",
        "\n",
        "arr3d = np.array([[7, 8, 5, 4, 7, 7, 7, 1, 9, 5, 4, 10, 2, 1, 2, 9, 8, 5, 3, 7, 3, 4, 9, 9, 2, 9, 3, 2, 4, 8, 1, 6, 6, 8, 1, 3]]).reshape(3, 4, 3)\n",
        "print(\"Sebelum\\n\")\n",
        "print(arr3d)\n",
        "arr3d = np.flipud(arr3d)\n",
        "print(\"\\nSetelah dibalik\\n\")\n",
        "print(arr3d)"
      ],
      "metadata": {
        "id": "jJlxkPq_wEx4",
        "colab": {
          "base_uri": "https://localhost:8080/"
        },
        "outputId": "0848d7ab-aa0e-4581-ee80-6891434df305"
      },
      "execution_count": null,
      "outputs": [
        {
          "output_type": "stream",
          "name": "stdout",
          "text": [
            "Sebelum\n",
            "\n",
            "[[[ 7  8  5]\n",
            "  [ 4  7  7]\n",
            "  [ 7  1  9]\n",
            "  [ 5  4 10]]\n",
            "\n",
            " [[ 2  1  2]\n",
            "  [ 9  8  5]\n",
            "  [ 3  7  3]\n",
            "  [ 4  9  9]]\n",
            "\n",
            " [[ 2  9  3]\n",
            "  [ 2  4  8]\n",
            "  [ 1  6  6]\n",
            "  [ 8  1  3]]]\n",
            "\n",
            "Setelah dibalik\n",
            "\n",
            "[[[ 2  9  3]\n",
            "  [ 2  4  8]\n",
            "  [ 1  6  6]\n",
            "  [ 8  1  3]]\n",
            "\n",
            " [[ 2  1  2]\n",
            "  [ 9  8  5]\n",
            "  [ 3  7  3]\n",
            "  [ 4  9  9]]\n",
            "\n",
            " [[ 7  8  5]\n",
            "  [ 4  7  7]\n",
            "  [ 7  1  9]\n",
            "  [ 5  4 10]]]\n"
          ]
        }
      ]
    },
    {
      "cell_type": "code",
      "source": [
        "# Ubahlah array pada soal 4 menjadi array 2D berukuran 6 x 6 (hint : gunakan perintah reshape)\n",
        "\n",
        "arr2d = arr3d.reshape(6, 6)\n",
        "print(\"Ini adalah array 2D dengan ukuran 6x6:\")\n",
        "print(arr2d)\n",
        "\n",
        "\n"
      ],
      "metadata": {
        "colab": {
          "base_uri": "https://localhost:8080/"
        },
        "id": "lE0dBX_yVfUa",
        "outputId": "427273fa-56d4-47df-a2cc-3f320a2938fb"
      },
      "execution_count": null,
      "outputs": [
        {
          "output_type": "stream",
          "name": "stdout",
          "text": [
            "Ini adalah array 2D dengan ukuran 6x6:\n",
            "[[ 2  9  3  2  4  8]\n",
            " [ 1  6  6  8  1  3]\n",
            " [ 2  1  2  9  8  5]\n",
            " [ 3  7  3  4  9  9]\n",
            " [ 7  8  5  4  7  7]\n",
            " [ 7  1  9  5  4 10]]\n"
          ]
        }
      ]
    },
    {
      "cell_type": "code",
      "source": [
        "import numpy as np\n",
        "\n",
        "arr6a = np.array([5, 10, 10, 7, 7, 8, 4, 10, 9, 10, 2, 5, 1, 8, 9, 3, 6, 10, 5, 2, 4, 6, 9, 4]).reshape(6,4)\n",
        "print(\"Ubahlah matrix kiri menjadi matrix sebelah kanan\\n\")\n",
        "print(arr6a)\n",
        "\n",
        "# Memisahkan 4 kolom menjadi 2 kolom\n",
        "kiria, kanana = np.hsplit(arr6a, 2) #memisahkan matrik menjadi 2 bagian\n",
        "\n",
        "# Menukar matriks yang terpisah\n",
        "arr6a = np.concatenate((kanana, kiria), axis=1) #digabungkan secara horizontal, dengan dibagi dengan masing masing kolom yang sama , kalo misal axis = 0 itu barisnya yang sama\n",
        "\n",
        "print(\"\\n{SETELAH DIUBAH}\\n\")\n",
        "print(arr6a)\n"
      ],
      "metadata": {
        "colab": {
          "base_uri": "https://localhost:8080/"
        },
        "id": "mi7CrkGIoNQy",
        "outputId": "ed425a3b-e539-4bb3-8e6b-f26e01e60004"
      },
      "execution_count": null,
      "outputs": [
        {
          "output_type": "stream",
          "name": "stdout",
          "text": [
            "Ubahlah matrix kiri menjadi matrix sebelah kanan\n",
            "\n",
            "[[ 5 10 10  7]\n",
            " [ 7  8  4 10]\n",
            " [ 9 10  2  5]\n",
            " [ 1  8  9  3]\n",
            " [ 6 10  5  2]\n",
            " [ 4  6  9  4]]\n",
            "\n",
            "{SETELAH DIUBAH}\n",
            "\n",
            "[[10  7  5 10]\n",
            " [ 4 10  7  8]\n",
            " [ 2  5  9 10]\n",
            " [ 9  3  1  8]\n",
            " [ 5  2  6 10]\n",
            " [ 9  4  4  6]]\n"
          ]
        }
      ]
    },
    {
      "cell_type": "code",
      "source": [
        "import numpy as np\n",
        "\n",
        "arr6b = np.array([9, 3, 1, 8, 5, 2, 6, 10, 9, 4, 4, 6, 10, 7, 5, 10, 4, 10, 7, 8, 2, 5, 9, 10]).reshape(6,4)\n",
        "print(\"Ubahlah matrix kiri menjadi matrix sebelah kanan\\n\")\n",
        "print(arr6b)\n",
        "\n",
        "# Memisahkan 4 kolom menjadi 2 kolom\n",
        "kirib, kananb = np.hsplit(arr6b, 2) #memisahkan matrik menjadi 2 bagian\n",
        "\n",
        "# Menukar matriks yang terpisah\n",
        "arr6b = np.concatenate((kananb, kirib), axis=1) #digabungkan secara horizontal, dengan dibagi dengan masing masing kolom yang sama , kalo misal axis = 0 itu barisnya yang sama\n",
        "\n",
        "print(\"\\n{SETELAH DIUBAH}\\n\")\n",
        "print(arr6b)\n"
      ],
      "metadata": {
        "colab": {
          "base_uri": "https://localhost:8080/"
        },
        "id": "sCJnGM7lnkBi",
        "outputId": "15719933-c05b-4ffe-c7e0-1ec0cd11bb4c"
      },
      "execution_count": null,
      "outputs": [
        {
          "output_type": "stream",
          "name": "stdout",
          "text": [
            "Ubahlah matrix kiri menjadi matrix sebelah kanan\n",
            "\n",
            "[[ 9  3  1  8]\n",
            " [ 5  2  6 10]\n",
            " [ 9  4  4  6]\n",
            " [10  7  5 10]\n",
            " [ 4 10  7  8]\n",
            " [ 2  5  9 10]]\n",
            "\n",
            "{SETELAH DIUBAH}\n",
            "\n",
            "[[ 1  8  9  3]\n",
            " [ 6 10  5  2]\n",
            " [ 4  6  9  4]\n",
            " [ 5 10 10  7]\n",
            " [ 7  8  4 10]\n",
            " [ 9 10  2  5]]\n"
          ]
        }
      ]
    }
  ]
}