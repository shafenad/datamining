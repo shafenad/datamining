{
  "nbformat": 4,
  "nbformat_minor": 0,
  "metadata": {
    "colab": {
      "provenance": []
    },
    "kernelspec": {
      "name": "python3",
      "display_name": "Python 3"
    },
    "language_info": {
      "name": "python"
    }
  },
  "cells": [
    {
      "cell_type": "code",
      "execution_count": null,
      "metadata": {
        "id": "9P7tNuec_M24"
      },
      "outputs": [],
      "source": [
        "import numpy as np\n",
        "import pandas as pd\n",
        "from sklearn import datasets\n",
        "from sklearn.preprocessing import StandardScaler #digunakan untuk mentransformasikan fitur-fitur data agar memiliki rata-rata 0 dan standar deviasi 1.\n",
        "from sklearn.linear_model import Perceptron #untuk meminimalkan jumlah kesalahan klasifikasi.\n",
        "from sklearn.model_selection import train_test_split\n",
        "from sklearn.metrics import accuracy_score"
      ]
    },
    {
      "cell_type": "markdown",
      "source": [
        "1. Ulangi proses klasifikasi menggunakan perceptron pada dataset  wine dan breast cancer (dari library Scikit Learn). Masing masing gunakan perbandingan 0.2, 0.3, 0.4. Tuliskan akurasinya."
      ],
      "metadata": {
        "id": "JJIQUspbLPqd"
      }
    },
    {
      "cell_type": "markdown",
      "source": [
        "# **DATASET WINE**"
      ],
      "metadata": {
        "id": "YL-7oIs0Ck3w"
      }
    },
    {
      "cell_type": "code",
      "source": [
        "#DATASET WINE\n",
        "wine = datasets.load_wine()\n",
        "\n",
        "dfwine = pd.DataFrame(wine.data)\n",
        "print(dfwine.head())"
      ],
      "metadata": {
        "colab": {
          "base_uri": "https://localhost:8080/"
        },
        "id": "H5YW8AHpCJ7G",
        "outputId": "3f1fd66f-da7f-4734-9e1e-bf93b3ac22e4"
      },
      "execution_count": null,
      "outputs": [
        {
          "output_type": "stream",
          "name": "stdout",
          "text": [
            "      0     1     2     3      4     5     6     7     8     9     10    11  \\\n",
            "0  14.23  1.71  2.43  15.6  127.0  2.80  3.06  0.28  2.29  5.64  1.04  3.92   \n",
            "1  13.20  1.78  2.14  11.2  100.0  2.65  2.76  0.26  1.28  4.38  1.05  3.40   \n",
            "2  13.16  2.36  2.67  18.6  101.0  2.80  3.24  0.30  2.81  5.68  1.03  3.17   \n",
            "3  14.37  1.95  2.50  16.8  113.0  3.85  3.49  0.24  2.18  7.80  0.86  3.45   \n",
            "4  13.24  2.59  2.87  21.0  118.0  2.80  2.69  0.39  1.82  4.32  1.04  2.93   \n",
            "\n",
            "       12  \n",
            "0  1065.0  \n",
            "1  1050.0  \n",
            "2  1185.0  \n",
            "3  1480.0  \n",
            "4   735.0  \n"
          ]
        }
      ]
    },
    {
      "cell_type": "code",
      "source": [
        "# Melakukan Train Test\n",
        "X = wine.data\n",
        "Y = wine.target\n",
        "\n",
        "X_train1, X_test1, Y_train1, Y_test1 = train_test_split(X, Y, test_size = 0.2)\n",
        "X_train2, X_test2, Y_train2, Y_test2 = train_test_split(X, Y, test_size = 0.3)\n",
        "X_train3, X_test3, Y_train3, Y_test3 = train_test_split(X, Y, test_size = 0.4)"
      ],
      "metadata": {
        "id": "pNrdkGd_CR7v"
      },
      "execution_count": null,
      "outputs": []
    },
    {
      "cell_type": "code",
      "source": [
        "# Melakukan standard scaler\n",
        "sc = StandardScaler()\n",
        "\n",
        "sc.fit(X_train1) #digunakan untuk menghitung rata-rata dan standar deviasi dari setiap fitur dalam data pelatihan (X_train).\n",
        "X_train1_std = sc.transform(X_train1)\n",
        "X_test1_std = sc.transform(X_test1)\n",
        "\n",
        "sc.fit(X_train2)\n",
        "X_train2_std = sc.transform(X_train2)\n",
        "X_test2_std = sc.transform(X_test2)\n",
        "\n",
        "sc.fit(X_train3)\n",
        "X_train3_std = sc.transform(X_train3)\n",
        "X_test3_std = sc.transform(X_test3)"
      ],
      "metadata": {
        "id": "q2sli_XVCfH3"
      },
      "execution_count": null,
      "outputs": []
    },
    {
      "cell_type": "code",
      "source": [
        "# Melakukan perceptron\n",
        "pct = Perceptron(eta0 = 0.1, random_state = 0) # eta0 : nilai laju pembelajaran (learning rate) awal yang digunakan oleh perceptron\n",
        "\n",
        "pct.fit(X_train1_std, Y_train1) #melatih perceptron menggunakan data pelatihan yang telah diubah skala sebelumnya\n",
        "Y_pred1 = pct.predict(X_test1_std)\n",
        "print(\"Test 0.2 Accuracy : %.2f\" % accuracy_score(Y_test1, Y_pred1))\n",
        "\n",
        "pct.fit(X_train2_std, Y_train2)\n",
        "Y_pred2 = pct.predict(X_test2_std)\n",
        "print(\"Test 0.3 Accuracy : %.2f\" % accuracy_score(Y_test2, Y_pred2))\n",
        "\n",
        "pct.fit(X_train3_std, Y_train3)\n",
        "Y_pred3 = pct.predict(X_test3_std)\n",
        "print(\"Test 0.4 Accuracy : %.2f\" % accuracy_score(Y_test3, Y_pred3))"
      ],
      "metadata": {
        "colab": {
          "base_uri": "https://localhost:8080/"
        },
        "id": "48Sjm0QhCiOQ",
        "outputId": "fc909524-25f4-47c2-a82f-58752a31e831"
      },
      "execution_count": null,
      "outputs": [
        {
          "output_type": "stream",
          "name": "stdout",
          "text": [
            "Test 0.2 Accuracy : 0.94\n",
            "Test 0.3 Accuracy : 0.98\n",
            "Test 0.4 Accuracy : 0.97\n"
          ]
        }
      ]
    },
    {
      "cell_type": "markdown",
      "source": [
        "# **DATASET CANCER**"
      ],
      "metadata": {
        "id": "zda2_PgDCyKw"
      }
    },
    {
      "cell_type": "code",
      "source": [
        "# DATASET CANCER\n",
        "cancer = datasets.load_breast_cancer()\n",
        "\n",
        "dfcancer = pd.DataFrame(cancer.data)\n",
        "print(dfcancer.head())"
      ],
      "metadata": {
        "colab": {
          "base_uri": "https://localhost:8080/"
        },
        "id": "2w7OP8WjCpkp",
        "outputId": "0c6c7e1a-ca98-439c-cecf-8cffafd46be3"
      },
      "execution_count": null,
      "outputs": [
        {
          "output_type": "stream",
          "name": "stdout",
          "text": [
            "      0      1       2       3        4        5       6        7       8   \\\n",
            "0  17.99  10.38  122.80  1001.0  0.11840  0.27760  0.3001  0.14710  0.2419   \n",
            "1  20.57  17.77  132.90  1326.0  0.08474  0.07864  0.0869  0.07017  0.1812   \n",
            "2  19.69  21.25  130.00  1203.0  0.10960  0.15990  0.1974  0.12790  0.2069   \n",
            "3  11.42  20.38   77.58   386.1  0.14250  0.28390  0.2414  0.10520  0.2597   \n",
            "4  20.29  14.34  135.10  1297.0  0.10030  0.13280  0.1980  0.10430  0.1809   \n",
            "\n",
            "        9   ...     20     21      22      23      24      25      26      27  \\\n",
            "0  0.07871  ...  25.38  17.33  184.60  2019.0  0.1622  0.6656  0.7119  0.2654   \n",
            "1  0.05667  ...  24.99  23.41  158.80  1956.0  0.1238  0.1866  0.2416  0.1860   \n",
            "2  0.05999  ...  23.57  25.53  152.50  1709.0  0.1444  0.4245  0.4504  0.2430   \n",
            "3  0.09744  ...  14.91  26.50   98.87   567.7  0.2098  0.8663  0.6869  0.2575   \n",
            "4  0.05883  ...  22.54  16.67  152.20  1575.0  0.1374  0.2050  0.4000  0.1625   \n",
            "\n",
            "       28       29  \n",
            "0  0.4601  0.11890  \n",
            "1  0.2750  0.08902  \n",
            "2  0.3613  0.08758  \n",
            "3  0.6638  0.17300  \n",
            "4  0.2364  0.07678  \n",
            "\n",
            "[5 rows x 30 columns]\n"
          ]
        }
      ]
    },
    {
      "cell_type": "code",
      "source": [
        "# Melakukan train test\n",
        "X = cancer.data\n",
        "Y = cancer.target\n",
        "\n",
        "X_train1, X_test1, Y_train1, Y_test1 = train_test_split(X, Y, test_size = 0.2)\n",
        "X_train2, X_test2, Y_train2, Y_test2 = train_test_split(X, Y, test_size = 0.3)\n",
        "X_train3, X_test3, Y_train3, Y_test3 = train_test_split(X, Y, test_size = 0.4)"
      ],
      "metadata": {
        "id": "CcujoBO_CoMu"
      },
      "execution_count": null,
      "outputs": []
    },
    {
      "cell_type": "code",
      "source": [
        "# Melakukan standard scaler\n",
        "sc = StandardScaler()\n",
        "\n",
        "sc.fit(X_train1)\n",
        "X_train1_std = sc.transform(X_train1)\n",
        "X_test1_std = sc.transform(X_test1)\n",
        "\n",
        "sc.fit(X_train2)\n",
        "X_train2_std = sc.transform(X_train2)\n",
        "X_test2_std = sc.transform(X_test2)\n",
        "\n",
        "sc.fit(X_train3)\n",
        "X_train3_std = sc.transform(X_train3)\n",
        "X_test3_std = sc.transform(X_test3)"
      ],
      "metadata": {
        "id": "l9kauroMCtPY"
      },
      "execution_count": null,
      "outputs": []
    },
    {
      "cell_type": "code",
      "source": [
        "# Melakukan perceptron\n",
        "pct = Perceptron(eta0 = 0.1, random_state = 0)\n",
        "\n",
        "pct.fit(X_train1_std, Y_train1)\n",
        "Y_pred1 = pct.predict(X_test1_std)\n",
        "print(\"Test 0.2 Accuracy : %.2f\" % accuracy_score(Y_test1, Y_pred1))\n",
        "\n",
        "pct.fit(X_train2_std, Y_train2)\n",
        "Y_pred2 = pct.predict(X_test2_std)\n",
        "print(\"Test 0.3 Accuracy : %.2f\" % accuracy_score(Y_test2, Y_pred2))\n",
        "\n",
        "pct.fit(X_train3_std, Y_train3)\n",
        "Y_pred3 = pct.predict(X_test3_std)\n",
        "print(\"Test 0.4 Accuracy : %.2f\" % accuracy_score(Y_test3, Y_pred3))"
      ],
      "metadata": {
        "colab": {
          "base_uri": "https://localhost:8080/"
        },
        "id": "NsK4wf8ICwtr",
        "outputId": "fc0a5479-8d09-4ba3-f5a7-49ea6fe27459"
      },
      "execution_count": null,
      "outputs": [
        {
          "output_type": "stream",
          "name": "stdout",
          "text": [
            "Test 0.2 Accuracy : 0.96\n",
            "Test 0.3 Accuracy : 0.98\n",
            "Test 0.4 Accuracy : 0.97\n"
          ]
        }
      ]
    }
  ]
}