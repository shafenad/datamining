{
  "nbformat": 4,
  "nbformat_minor": 0,
  "metadata": {
    "colab": {
      "provenance": []
    },
    "kernelspec": {
      "name": "python3",
      "display_name": "Python 3"
    },
    "language_info": {
      "name": "python"
    }
  },
  "cells": [
    {
      "cell_type": "markdown",
      "source": [
        "# **KLASIFIKASI MATRIX MENGGUNAKAN RANDOM FOREST**\n"
      ],
      "metadata": {
        "id": "jUfpiL5Hzder"
      }
    },
    {
      "cell_type": "code",
      "execution_count": null,
      "metadata": {
        "colab": {
          "base_uri": "https://localhost:8080/"
        },
        "id": "39iRcA4KzRrp",
        "outputId": "00d13e2e-5acc-46e8-d19a-9f4b396b7351"
      },
      "outputs": [
        {
          "output_type": "stream",
          "name": "stdout",
          "text": [
            "Accuracy: 0.6666666666666666\n",
            "Precision: 0.8333333333333334\n",
            "Recall: 0.6666666666666666\n",
            "F1 Score: 0.6666666666666666\n",
            "Confusion Matrix:\n",
            "[[1 0]\n",
            " [1 1]]\n"
          ]
        }
      ],
      "source": [
        "import pandas as pd\n",
        "from sklearn.metrics import accuracy_score, precision_score, recall_score, f1_score, confusion_matrix\n",
        "from sklearn.model_selection import train_test_split\n",
        "from sklearn.ensemble import RandomForestClassifier\n",
        "from sklearn.preprocessing import LabelEncoder\n",
        "\n",
        "data = pd.read_csv('dataprediksi.csv')\n",
        "\n",
        "x_custom = data.iloc[:, 1:-1]\n",
        "y_custom = data.iloc[:, -1]\n",
        "\n",
        "label_encoders = {}\n",
        "for column in x_custom.columns:\n",
        "    if x_custom[column].dtype == object:\n",
        "        le = LabelEncoder()\n",
        "        x_custom[column] = le.fit_transform(x_custom[column])\n",
        "        label_encoders[column] = le\n",
        "\n",
        "y_le = LabelEncoder()\n",
        "y_custom = y_le.fit_transform(y_custom)\n",
        "\n",
        "X_train, X_test, y_train, y_test = train_test_split(x_custom, y_custom, test_size=0.3, random_state=42)\n",
        "\n",
        "clf = RandomForestClassifier()\n",
        "\n",
        "clf.fit(X_train, y_train)\n",
        "\n",
        "y_pred = clf.predict(X_test)\n",
        "\n",
        "accuracy = accuracy_score(y_test, y_pred)\n",
        "print(\"Accuracy:\", accuracy)\n",
        "\n",
        "precision = precision_score(y_test, y_pred, average='weighted')\n",
        "print('Precision:', precision)\n",
        "\n",
        "recall = recall_score(y_test, y_pred, average='weighted')\n",
        "print('Recall:', recall)\n",
        "\n",
        "f1 = f1_score(y_test, y_pred, average='weighted')\n",
        "print(\"F1 Score:\", f1)\n",
        "\n",
        "cm = confusion_matrix(y_test, y_pred)\n",
        "print('Confusion Matrix:')\n",
        "print(cm)\n"
      ]
    },
    {
      "cell_type": "markdown",
      "source": [
        "# **Random Forest Regressor**"
      ],
      "metadata": {
        "id": "1vs_5zNMzrMI"
      }
    },
    {
      "cell_type": "code",
      "source": [
        "import pandas as pd\n",
        "from sklearn.metrics import mean_absolute_error, mean_squared_error, r2_score\n",
        "from sklearn.model_selection import train_test_split\n",
        "from sklearn.ensemble import RandomForestRegressor\n",
        "from sklearn.preprocessing import LabelEncoder\n",
        "import numpy as np\n",
        "\n",
        "data = pd.read_csv('dataprediksi.csv')\n",
        "\n",
        "x_custom = data.iloc[:, 1:-1]\n",
        "y_custom = data.iloc[:, -1]\n",
        "\n",
        "label_encoders = {}\n",
        "for column in x_custom.columns:\n",
        "    if x_custom[column].dtype == object:\n",
        "        le = LabelEncoder()\n",
        "        x_custom[column] = le.fit_transform(x_custom[column])\n",
        "        label_encoders[column] = le\n",
        "\n",
        "le_target = LabelEncoder()\n",
        "y_custom = le_target.fit_transform(y_custom)\n",
        "\n",
        "X_train, X_test, y_train, y_test = train_test_split(x_custom, y_custom, test_size=0.3, random_state=42)\n",
        "\n",
        "regressor = RandomForestRegressor()\n",
        "\n",
        "regressor.fit(X_train, y_train)\n",
        "\n",
        "y_pred = regressor.predict(X_test)\n",
        "\n",
        "r2 = r2_score(y_test, y_pred)\n",
        "print(\"R-squared (R2) Score:\", r2)\n",
        "\n",
        "mae = mean_absolute_error(y_test, y_pred)\n",
        "print(\"Mean Absolute Error (MAE):\", mae)\n",
        "\n",
        "mse = mean_squared_error(y_test, y_pred)\n",
        "print(\"Mean Squared Error (MSE):\", mse)\n",
        "\n",
        "rmse = np.sqrt(mse)\n",
        "print(\"Root Mean Squared Error (RMSE):\", rmse)\n",
        "\n",
        "\n"
      ],
      "metadata": {
        "colab": {
          "base_uri": "https://localhost:8080/"
        },
        "id": "tTwa18LszXsw",
        "outputId": "a0aa7cdc-cdd3-495e-e65f-52d5178e7764"
      },
      "execution_count": null,
      "outputs": [
        {
          "output_type": "stream",
          "name": "stdout",
          "text": [
            "R-squared (R2) Score: -0.9421010416666664\n",
            "Mean Absolute Error (MAE): 0.5202777777777777\n",
            "Mean Squared Error (MSE): 0.4315780092592592\n",
            "Root Mean Squared Error (RMSE): 0.6569459713395457\n"
          ]
        }
      ]
    }
  ]
}